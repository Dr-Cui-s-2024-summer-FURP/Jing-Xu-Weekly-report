{
 "cells": [
  {
   "cell_type": "markdown",
   "id": "5120293a-a947-4239-b927-42f3db4ea70d",
   "metadata": {},
   "source": [
    "# Concept of Tensor\n",
    "\n",
    "Tensor in Chinese is 张量, which means a multidimensional array. It can be a high-dimensional extension of scalars. vectors, and matrices.\n",
    "\n",
    "Scalars can be reffered to as 0-dimensional tensors, vectors can be reffered to as 1-dimensional tensors, matrices can be referred to as 2-dimensional tensors, and RGB images can represent 3-dimensional tensors."
   ]
  },
  {
   "cell_type": "markdown",
   "id": "4bbf8851-d934-41bf-a203-8a1dd0288592",
   "metadata": {},
   "source": [
    "**1. in PyTorch, Tensors are similar to ndarrays in NumPy, while Tensors can be compited using GPUs.**"
   ]
  },
  {
   "cell_type": "code",
   "execution_count": 42,
   "id": "376d6952-c211-49f8-b5ce-36feb6cfc85d",
   "metadata": {},
   "outputs": [],
   "source": [
    "from __future__ import print_function\n",
    "import torch"
   ]
  },
  {
   "cell_type": "markdown",
   "id": "fe779448-d66a-4c9c-9b01-81447d1bcf20",
   "metadata": {},
   "source": [
    "**2. Construct Tensor**"
   ]
  },
  {
   "cell_type": "code",
   "execution_count": 43,
   "id": "02d129b5-7fcc-4aee-b816-2f05b062d2e7",
   "metadata": {},
   "outputs": [
    {
     "name": "stdout",
     "output_type": "stream",
     "text": [
      "tensor([6.1200, 4.0000])\n"
     ]
    }
   ],
   "source": [
    "# Construct a tensor directly with the data:\n",
    "# torch.tensor(data, dtype=None, device=None, requires_grad=False, pin_memory=False)\n",
    "x = torch.tensor([6.12, 4])\n",
    "print(x)"
   ]
  },
  {
   "cell_type": "code",
   "execution_count": 44,
   "id": "51f9bd6d-d32e-423d-9a9c-e3795f23e33b",
   "metadata": {},
   "outputs": [
    {
     "name": "stdout",
     "output_type": "stream",
     "text": [
      "tensor([[-3.2283e+06,  1.1407e-42,  1.0000e+00,  1.0000e+00,  1.0000e+00],\n",
      "        [ 1.0000e+00,  1.0000e+00,  1.0000e+00,  1.0000e+00,  1.0000e+00],\n",
      "        [ 1.0000e+00,  1.0000e+00,  1.0000e+00,  1.0000e+00,  1.0000e+00],\n",
      "        [ 1.0000e+00,  1.0000e+00,  1.0000e+00,  1.0000e+00,  1.0000e+00],\n",
      "        [ 1.0000e+00,  1.0000e+00,  1.0000e+00,  1.0000e+00,  1.0000e+00]])\n"
     ]
    }
   ],
   "source": [
    "# Construct a matrix without initialization:\n",
    "x = torch.empty(5,5)\n",
    "print(x)"
   ]
  },
  {
   "cell_type": "code",
   "execution_count": 57,
   "id": "1b1caebe-eeb5-4fa7-8896-0eccfeb35e08",
   "metadata": {},
   "outputs": [
    {
     "name": "stdout",
     "output_type": "stream",
     "text": [
      "tensor([[0.6848, 0.0290, 0.3746, 0.1059, 0.1639],\n",
      "        [0.8721, 0.2828, 0.2465, 0.9344, 0.5077],\n",
      "        [0.4920, 0.2633, 0.5014, 0.0907, 0.4204],\n",
      "        [0.7287, 0.6526, 0.9085, 0.4948, 0.3658],\n",
      "        [0.6323, 0.3110, 0.0188, 0.9014, 0.9692]])\n",
      "tensor([[4, 3, 3, 2, 2],\n",
      "        [1, 2, 3, 2, 1],\n",
      "        [1, 3, 3, 3, 2],\n",
      "        [0, 0, 2, 3, 1],\n",
      "        [4, 1, 1, 1, 1]])\n"
     ]
    }
   ],
   "source": [
    "# Construct a matrix randomly:\n",
    "\n",
    "# torch.rand() & torch.rand_like() Generate a uniform distribution over the interval [0, 1]\n",
    "# torch.rand(*size, out=None, dtype=None, layout=torch.strided, device=None, requires_grad=False)\n",
    "x = torch.rand(5,5)\n",
    "print(x)\n",
    "\n",
    "# torch.randint() and torch.randint_like() Generate an integer uniform distribution on the interval [low, high].\n",
    "# randint(low=0, high, size, *, generator=None, out=None, dtype=None, layout=torch.strided, device=None, requires_grad=False)\n",
    "x = torch.randint(5,(5,5))\n",
    "print(x)"
   ]
  },
  {
   "cell_type": "code",
   "execution_count": 46,
   "id": "c978ba78-7b27-4cf7-bbec-fae4036d7495",
   "metadata": {},
   "outputs": [
    {
     "name": "stdout",
     "output_type": "stream",
     "text": [
      "tensor([[0., 0., 0., 0., 0.],\n",
      "        [0., 0., 0., 0., 0.],\n",
      "        [0., 0., 0., 0., 0.],\n",
      "        [0., 0., 0., 0., 0.],\n",
      "        [0., 0., 0., 0., 0.]])\n"
     ]
    }
   ],
   "source": [
    "# Construct a matrix that is all 0:\n",
    "x = torch.zeros(5,5)\n",
    "print(x)"
   ]
  },
  {
   "cell_type": "code",
   "execution_count": 47,
   "id": "e11b3730-0a8b-408b-9276-025c5a2f23b0",
   "metadata": {},
   "outputs": [
    {
     "name": "stdout",
     "output_type": "stream",
     "text": [
      "tensor([[1., 1., 1., 1., 1.],\n",
      "        [1., 1., 1., 1., 1.],\n",
      "        [1., 1., 1., 1., 1.],\n",
      "        [1., 1., 1., 1., 1.],\n",
      "        [1., 1., 1., 1., 1.]])\n"
     ]
    }
   ],
   "source": [
    "# Construct a matrix that is all 1:\n",
    "x = torch.ones(5,5)\n",
    "print(x)"
   ]
  },
  {
   "cell_type": "code",
   "execution_count": 53,
   "id": "e8a622ee-9c3a-428d-bf6f-aeca6d5eec66",
   "metadata": {},
   "outputs": [
    {
     "name": "stdout",
     "output_type": "stream",
     "text": [
      "tensor([[1., 1., 1., 1., 1.],\n",
      "        [1., 1., 1., 1., 1.],\n",
      "        [1., 1., 1., 1., 1.],\n",
      "        [1., 1., 1., 1., 1.],\n",
      "        [1., 1., 1., 1., 1.]], dtype=torch.float64)\n",
      "tensor([[0., 0., 0., 0., 0.],\n",
      "        [0., 0., 0., 0., 0.],\n",
      "        [0., 0., 0., 0., 0.],\n",
      "        [0., 0., 0., 0., 0.],\n",
      "        [0., 0., 0., 0., 0.]])\n"
     ]
    }
   ],
   "source": [
    "# Create a tensor based on an existing tensor.\n",
    "x = x.new_ones(5, 5, dtype=torch.double)   # new_* methods take in sizes   \n",
    "print(x)\n",
    "x = torch.zeros_like(x, dtype=torch.float)   # override dtype\n",
    "print(x)\n",
    "# result has the same size"
   ]
  },
  {
   "cell_type": "code",
   "execution_count": 54,
   "id": "66358a90-6b47-4d4b-b16c-d4cf0bb7b2f9",
   "metadata": {},
   "outputs": [
    {
     "name": "stdout",
     "output_type": "stream",
     "text": [
      "tensor([2, 4, 6, 8])\n"
     ]
    }
   ],
   "source": [
    "# Create 1-dimensional tensors of equal difference\n",
    "x = torch.arange(2, 10, 2)\n",
    "print(x)"
   ]
  },
  {
   "cell_type": "code",
   "execution_count": 55,
   "id": "329a8e4c-fe9d-4ae8-a9bd-a81a6cc26ccc",
   "metadata": {},
   "outputs": [
    {
     "name": "stdout",
     "output_type": "stream",
     "text": [
      "tensor([ 2.0000,  3.6000,  5.2000,  6.8000,  8.4000, 10.0000])\n"
     ]
    }
   ],
   "source": [
    "#Create an evenly divided 1-dimensional tensor, torch.linspace(start, end, step)\n",
    "x = torch.linspace(2, 10, 6)\n",
    "print(x)"
   ]
  },
  {
   "cell_type": "markdown",
   "id": "9cb7a152-c94d-49ec-a224-a7d13bdd4c81",
   "metadata": {},
   "source": [
    "**3. Check size**"
   ]
  },
  {
   "cell_type": "code",
   "execution_count": 49,
   "id": "3838c71d-4d6b-434e-bdfd-c88594197e3b",
   "metadata": {},
   "outputs": [
    {
     "name": "stdout",
     "output_type": "stream",
     "text": [
      "torch.Size([5, 5])\n"
     ]
    }
   ],
   "source": [
    "print(x.size())"
   ]
  },
  {
   "cell_type": "markdown",
   "id": "7ba40e95-b28d-45d7-a072-3c9b09422e09",
   "metadata": {},
   "source": [
    "**4. Operate (e.g. add)**"
   ]
  },
  {
   "cell_type": "code",
   "execution_count": 50,
   "id": "257f0908-23f6-4c3a-87b2-0e84224144f9",
   "metadata": {},
   "outputs": [
    {
     "name": "stdout",
     "output_type": "stream",
     "text": [
      "tensor([[1., 1., 1., 1., 1.],\n",
      "        [1., 1., 1., 1., 1.],\n",
      "        [1., 1., 1., 1., 1.],\n",
      "        [1., 1., 1., 1., 1.],\n",
      "        [1., 1., 1., 1., 1.]])\n",
      "tensor([[1., 1., 1., 1., 1.],\n",
      "        [1., 1., 1., 1., 1.],\n",
      "        [1., 1., 1., 1., 1.],\n",
      "        [1., 1., 1., 1., 1.],\n",
      "        [1., 1., 1., 1., 1.]])\n",
      "tensor([[1., 1., 1., 1., 1.],\n",
      "        [1., 1., 1., 1., 1.],\n",
      "        [1., 1., 1., 1., 1.],\n",
      "        [1., 1., 1., 1., 1.],\n",
      "        [1., 1., 1., 1., 1.]])\n"
     ]
    }
   ],
   "source": [
    "#add\n",
    "y = torch.ones(5,5)\n",
    "print(torch.add(x, y))\n",
    "\n",
    "print(y.add_(x))\n",
    "\n",
    "print(x + y)"
   ]
  },
  {
   "cell_type": "markdown",
   "id": "0392a34f-b8b8-4752-9387-69662480e3cc",
   "metadata": {},
   "source": [
    "**5. Change the size: If you want to change the size or shape of a tensor, you can use the  methods ```torch.view ```:**"
   ]
  },
  {
   "cell_type": "code",
   "execution_count": 51,
   "id": "2d3775d4-c43c-489a-8e26-8b8dfd22b6a6",
   "metadata": {},
   "outputs": [
    {
     "name": "stdout",
     "output_type": "stream",
     "text": [
      "torch.Size([4, 4]) torch.Size([16]) torch.Size([2, 8])\n"
     ]
    }
   ],
   "source": [
    "x = torch.randn(4, 4)\n",
    "y = x.view(16)\n",
    "z = x.view(2, 8) \n",
    "print(x.size(), y.size(), z.size())"
   ]
  },
  {
   "cell_type": "markdown",
   "id": "bbdfd3f1-be69-4233-be53-deff08e6664d",
   "metadata": {},
   "source": [
    "**6. use .item() to get value (one element tensor)**"
   ]
  },
  {
   "cell_type": "code",
   "execution_count": 52,
   "id": "6da5995c-c7b6-4b9e-8b01-2ed1e5f44de0",
   "metadata": {},
   "outputs": [
    {
     "name": "stdout",
     "output_type": "stream",
     "text": [
      "tensor([2.2246])\n",
      "2.2245583534240723\n"
     ]
    }
   ],
   "source": [
    "x = torch.randn(1)\n",
    "print(x)\n",
    "print(x.item())"
   ]
  },
  {
   "cell_type": "markdown",
   "id": "aa1776ca-af38-4855-ba85-d5ee6d51b9c3",
   "metadata": {},
   "source": [
    "## Resources\n",
    "[pytorch 1.0-cn](https://github.com/fendouai/pytorch1.0-cn/blob/master/README.md)\n",
    "\n",
    "[pytorch note](https://pytorch.zhangxiann.com/1-ji-ben-gai-nian/1.2-tensor-zhang-liang-jie-shao)"
   ]
  },
  {
   "cell_type": "code",
   "execution_count": null,
   "id": "4edb2705-28db-496c-bbe0-a94352aa0647",
   "metadata": {},
   "outputs": [],
   "source": []
  }
 ],
 "metadata": {
  "kernelspec": {
   "display_name": "Python 3 (ipykernel)",
   "language": "python",
   "name": "python3"
  },
  "language_info": {
   "codemirror_mode": {
    "name": "ipython",
    "version": 3
   },
   "file_extension": ".py",
   "mimetype": "text/x-python",
   "name": "python",
   "nbconvert_exporter": "python",
   "pygments_lexer": "ipython3",
   "version": "3.11.9"
  }
 },
 "nbformat": 4,
 "nbformat_minor": 5
}
