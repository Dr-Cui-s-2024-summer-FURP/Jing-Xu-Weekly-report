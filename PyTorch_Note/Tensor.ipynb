{
 "cells": [
  {
   "cell_type": "markdown",
   "id": "f7d5fa66",
   "metadata": {},
   "source": [
    "# Concept of Tensor\n",
    "\n",
    "Tensor in Chinese is 张量, which means a multidimensional array. It can be a high-dimensional extension of scalars. vectors, and matrices.\n",
    "\n",
    "Scalars can be reffered to as 0-dimensional tensors, vectors can be reffered to as 1-dimensional tensors, matrices can be referred to as 2-dimensional tensors, and RGB images can represent 3-dimensional tensors.\n"
   ]
  },
  {
   "cell_type": "markdown",
   "id": "9f47653b",
   "metadata": {},
   "source": [
    "1. in PyTorch, Tensors are similar to ndarrays in NumPy, while Tensors can be compited using GPUs."
   ]
  },
  {
   "cell_type": "code",
   "execution_count": 1,
   "id": "ab82522e",
   "metadata": {},
   "outputs": [
    {
     "ename": "ModuleNotFoundError",
     "evalue": "No module named 'torch'",
     "output_type": "error",
     "traceback": [
      "\u001b[1;31m---------------------------------------------------------------------------\u001b[0m",
      "\u001b[1;31mModuleNotFoundError\u001b[0m                       Traceback (most recent call last)",
      "Cell \u001b[1;32mIn[1], line 2\u001b[0m\n\u001b[0;32m      1\u001b[0m \u001b[38;5;28;01mfrom\u001b[39;00m \u001b[38;5;21;01m__future__\u001b[39;00m \u001b[38;5;28;01mimport\u001b[39;00m print_function\n\u001b[1;32m----> 2\u001b[0m \u001b[38;5;28;01mimport\u001b[39;00m \u001b[38;5;21;01mtorch\u001b[39;00m\n",
      "\u001b[1;31mModuleNotFoundError\u001b[0m: No module named 'torch'"
     ]
    }
   ],
   "source": [
    "from __future__ import print_function\n",
    "import torch"
   ]
  },
  {
   "cell_type": "code",
   "execution_count": null,
   "id": "998aa6a3",
   "metadata": {},
   "outputs": [],
   "source": []
  }
 ],
 "metadata": {
  "kernelspec": {
   "display_name": "Python 3 (ipykernel)",
   "language": "python",
   "name": "python3"
  },
  "language_info": {
   "codemirror_mode": {
    "name": "ipython",
    "version": 3
   },
   "file_extension": ".py",
   "mimetype": "text/x-python",
   "name": "python",
   "nbconvert_exporter": "python",
   "pygments_lexer": "ipython3",
   "version": "3.11.3"
  }
 },
 "nbformat": 4,
 "nbformat_minor": 5
}
