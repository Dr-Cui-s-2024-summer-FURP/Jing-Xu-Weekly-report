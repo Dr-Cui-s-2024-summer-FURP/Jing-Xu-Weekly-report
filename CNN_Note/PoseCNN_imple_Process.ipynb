{
 "cells": [
  {
   "cell_type": "markdown",
   "id": "6036de03-62fb-4bd8-b8db-650473f41740",
   "metadata": {},
   "source": [
    "# First Step: Environment Configuration"
   ]
  },
  {
   "cell_type": "markdown",
   "id": "700f4f75-1248-47a2-bf32-63d47fdbd31a",
   "metadata": {},
   "source": [
    "### Setting Up the PoseCNN Environment\r\n",
    "\r\n",
    "The first step is to create a virtual environment dedicated to PoseCNN, and then install the necessary packages in this virtual environment.\r\n",
    "\r\n",
    "#### Creating the Environment with Conda:\r\n",
    "- `pip install opencv-python`\r\n",
    "- `pip install matplotlib numpy keras Cython Pillow easydict transforms3d`\r\n",
    "- `pip install OpenEXR`\r\n",
    "- `sudo apt-get install libsuitesparse-dev libopenexr-dev metis libmetis-dev`\r\n",
    "\r\n",
    "#### Installing TensorFlow:\r\n",
    "1. `sudo apt-get install gcc-4.8`\r\n",
    "2. `sudo apt-get install g++-4.8`\r\n",
    "3. `sudo update-alternatives --install /usr/bin/gcc gcc /usr/bin/gcc-4.8 10`\r\n",
    "4. `sudo update-alternatives --install /usr/bin/gcc gcc /usr/bin/gcc-5 30`\r\n",
    "5. `sudo update-alternatives --config gcc`\r\n",
    "6. `sudo update-alternatives --install /usr/bin/g++ g++ /usr/bin/g++-4.8 10`\r\n",
    "7. `sudo update-alternatives --install /usr/bin/g++ g++ /usr/bin/g++-5 30`\r\n",
    "8. `sudo update-alternatives --config g++`\r\n",
    "9. `gcc --version`\r\n",
    "10. `g++ --version`\r\n",
    "10. `g++ --version`\r\n",
    "ion\r\n",
    "\r\n",
    "g++ --version"
   ]
  },
  {
   "cell_type": "markdown",
   "id": "7c5c00a0-8db8-492c-a483-d943e68bbe95",
   "metadata": {},
   "source": [
    "#### Installing Bazel\r\n",
    "\r\n",
    "Next, install Bazel, selecting version 0.10.0. This guide uses the `.sh` file for installation.\r\n",
    "\r\n",
    "**Download Link**: [Bazel 0.10.0 Installer](https://github.com/bazelbuild/bazel/releases/download/0.10.0/bazel-0.10.0-installer-linux-x86_64.sh)\r\n",
    "\r\n",
    "After downloading, install with the following commands:\r\n",
    "\r\n",
    "1. Change file permissions:\r\n",
    "   ```bash\r\n",
    "   chmod +x bazel-0.10.0-installer-linux-x86_64.sh\r\n",
    "   ```\r\n",
    "2. Install Bazel:\r\n",
    "   ```bash\r\n",
    "   ./bazel-0.10.0-installer-linux-x86_64.sh --user\r\n",
    "   ```\r\n",
    "3. Add environment variables:\r\n",
    "   ```bash\r\n",
    "   gedit ~/.bashrc\r\n",
    "   export PATH=\"$PATH:$HOME/bin\"\r\n",
    "   ```\r\n",
    "\r\n",
    "### Installing TensorFlow\r\n",
    "\r\n",
    "1. Clone the TensorFlow repository:\r\n",
    "   ```bash\r\n",
    "   git clone https://github.com/tensorflow/tensorflow.git\r\n",
    "   cd tensorflow\r\n",
    "   git checkout r1.8\r\n",
    "   ```\r\n",
    "2. Configure TensorFlow:\r\n",
    "   ```bash\r\n",
    "   ./configure\r\n",
    "   ```\r\n",
    "   During this step, the configuration script will ask several questions. Answer with `y/n` as appropriate. Make sure the Python and site-package paths correspond to your environment path. For example, if you are running in the `posecnn` virtual environment, your Python path should be `.../.conda/envs/posecnn/bin/python`. Most options can be `n`, but choose according to your system capabilities for CUDA.\r\n",
    "\r\n",
    "3. Compile the source files:\r\n",
    "   ```bash\r\n",
    "   bazel build --config=opt --config=cuda //tensorflow/tools/pip_package:build_pip_package\r\n",
    "   ```\r\n",
    "4. Generate the installation package:\r\n",
    "   ```bash\r\n",
    "   bazel-bin/tensorflow/tools/pip_package/build_pip_package ~/software/tensorflow\r\n",
    "   ```\r\n",
    "5. Install the package:\r\n",
    "   ```bash\r\n",
    "   pip install /tmp/tensorflow_pkg/tensoran test it by importing TensorFlow in Python.\r\n",
    "```"
   ]
  },
  {
   "cell_type": "code",
   "execution_count": null,
   "id": "15be35fd-3812-4921-b541-1194cac129e8",
   "metadata": {},
   "outputs": [],
   "source": []
  }
 ],
 "metadata": {
  "kernelspec": {
   "display_name": "Python 3 (ipykernel)",
   "language": "python",
   "name": "python3"
  },
  "language_info": {
   "codemirror_mode": {
    "name": "ipython",
    "version": 3
   },
   "file_extension": ".py",
   "mimetype": "text/x-python",
   "name": "python",
   "nbconvert_exporter": "python",
   "pygments_lexer": "ipython3",
   "version": "3.11.9"
  }
 },
 "nbformat": 4,
 "nbformat_minor": 5
}
